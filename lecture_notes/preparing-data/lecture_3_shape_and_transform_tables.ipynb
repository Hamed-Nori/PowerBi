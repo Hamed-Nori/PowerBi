{
 "cells": [
  {
   "cell_type": "markdown",
   "metadata": {},
   "source": [
    "# Tabellen formen und Transoformieren\n",
    "\n",
    "Eine richtige Deklarieriung von unsere Tabelle ist von gr0ßer bedeutung denn im nachhinhein erleichtert es uns die dinge besser nach zu vollziehen. Dabei spielen nicht einhaltung von richtige Eintragung in der Datensammölung Phase eine richtige Rolle sondern es spielt eine wichtige Rolle dass die daten in  eine benutzerfreundliche Art und weise kategorisiert werdnen. Da wir in Power BI die daten in eiene sturkturierte Form verarbeiten bzw. tabekllerich müssen wir die Spalten damit sind Die Title gemeint eine nachvollziehbare name geben. Es kommt häufig vor dass wir Daten importieren wo man die Spaltennamen anpassen soll. \n",
    "\n",
    "\n",
    "## Spalten Namen\n",
    "\n",
    "eine sehr wichtige Rolle entscheiden die Spaltennamen. Sie sollten vor modellierung und Visualisierung in Query Editor angepasst werden. Hier unten ist ein Szenario beispiel wie eine Unstrukturierte Datein , CSV importiert wird. Power BI gibt hier als spaltenname genrirsche Werte Wie Column 1 column 2 und etc.\n",
    "\n",
    "\n",
    "<img src=\"../../bilder/prepare-data/lecture_3_img_1.png\" width=75%/>\n",
    "\n",
    "\n",
    "\n",
    "\n",
    "Die Spaltennamen erscheinen Nachdem man fertig ist mit Daten Aufebreitung in unsere Power BI Oberfläche ausserhalb Query Editor. Somit kann man sich orintieren welche Datengruppen man benutzen will. In unteren Scrreeenshot sind die Namen noch nicht transformiert wurden in Query Editor und wenn man die Daten in Visualisierung Umgebung benutzen möchten sieht man es wie im Screenshot:\n",
    "\n",
    "<img src=\"../../bilder/prepare-data/lecture_3_column_name_img_2.png\" width=75% />\n",
    "\n",
    "\n",
    "\n",
    "Um dieses Problerm zu vermeiden kann man in Query Editor die Namen von Spalten manuell ändern in dem man auf der jeweiligen Spalten einen doppelklick macht und den gewünschten Namen hinzufügt. \n",
    "\n",
    "<img src=\"../../bilder/prepare-data/lecture_3_img_3.png\" width=75% />\n"
   ]
  },
  {
   "cell_type": "markdown",
   "metadata": {},
   "source": []
  },
  {
   "cell_type": "markdown",
   "metadata": {},
   "source": []
  }
 ],
 "metadata": {
  "language_info": {
   "name": "python"
  }
 },
 "nbformat": 4,
 "nbformat_minor": 2
}
