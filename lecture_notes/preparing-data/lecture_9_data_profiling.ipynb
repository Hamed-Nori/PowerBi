{
 "cells": [
  {
   "cell_type": "markdown",
   "metadata": {},
   "source": [
    "# Daten Profilierung \n",
    "\n",
    "Einführung, Begriffserklärung, \n",
    "die drei möglichkeiten \n",
    "\n",
    "## Spaltenverteilung\n",
    "Was wird dargestellt? \n",
    "Wozu? \n",
    "Wie und Wo ? \n",
    "\n",
    "### verschidene Daten\n",
    "### Eindeutige Daten\n",
    "\n",
    "\n",
    "## Spaltenqualität\n",
    "\n",
    "wozu?\n",
    "Wann? WIe?\n",
    "- Gülting\n",
    "- Fehler\n",
    "- Leer\n",
    "\n",
    "## Spaltenprofil\n",
    "\n",
    "Was ? \n",
    "Wie? \n",
    "Wo ? \n",
    "\n",
    "Besipiele: Minimumm maximmum Fehler basierend auf Spalte"
   ]
  }
 ],
 "metadata": {
  "language_info": {
   "name": "python"
  }
 },
 "nbformat": 4,
 "nbformat_minor": 2
}
