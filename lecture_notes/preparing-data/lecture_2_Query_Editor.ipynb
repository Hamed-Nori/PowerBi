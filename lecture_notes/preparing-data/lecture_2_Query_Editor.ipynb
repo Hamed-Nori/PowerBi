{
 "cells": [
  {
   "cell_type": "markdown",
   "metadata": {},
   "source": [
    "\n",
    "# Power Query Editor\n",
    "\n",
    "  - [Was ist der Power Query Editor?](#was-ist-der-power-query-editor)\n",
    "  - [Wann wird der Power Query Editor eingesetzt?](#wann-kommt-der-power-query-editor-zum-einsatz)\n",
    "  - [Wie öffnet man den Power Query Editor?](#wie-öffnet-man-den-power-query-editor)\n",
    "  - [Warum ist der Power Query Editor wichtig?](#warum-ist-der-power-query-editor-wichtig)\n",
    "\n",
    "## Was ist der Power Query Editor?\n",
    "Der Power Query Editor, oft auch einfach als Abfrage-Editor bezeichnet, ist ein zentrales Werkzeug in Power BI. Er dient vor allem zur Vorbereitung, Bereinigung und Transformation von Daten, bevor diese in Datenmodellen verwendet und anschließend visualisiert werden. Der Abfrage-Editor ist besonders dann wichtig, wenn Rohdaten aus verschiedenen Quellen importiert und zunächst in eine für Analysen geeignete Struktur gebracht werden müssen.\n",
    "\n",
    "## Wann nutzt man den Power Query Editor?\n",
    "Der Einsatz des Power Query Editors erfolgt in der Regel zu Beginn des Analyseprozesses, direkt nachdem eine Datenquelle angebunden wurde. Dabei ist es egal, ob es sich um strukturierte oder unstrukturierte Daten handelt. Mit dem Abfrage-Editor lassen sich nahezu alle Arten von Datenquellen transformieren und aufbereiten, wie beispielsweise CSV-Dateien, Excel-Arbeitsmappen, Datenbanken oder Online-Dienste.\n",
    "\n",
    "## Wie nutzt man den Power Query Editor?\n",
    "Die Bedienung erfolgt innerhalb von Power BI über die Schaltfläche „Daten transformieren“, die den Power Query Editor öffnet. Innerhalb dieses Editors kann man zahlreiche Operationen durchführen, beispielsweise Daten filtern, sortieren, Spalten hinzufügen oder entfernen, Datentypen anpassen oder auch komplexe Berechnungen erstellen. Jeder Schritt, der im Power Query Editor ausgeführt wird, wird protokolliert und kann später nachvollzogen, angepasst oder rückgängig gemacht werden.\n",
    "\n",
    "## Warum ist der Power Query Editor wichtig?\n",
    "Der Hauptgrund für die Nutzung des Power Query Editors liegt in der Notwendigkeit der Datenbereinigung und -strukturierung. Häufig sind Rohdaten fehlerhaft, unvollständig oder inkonsistent formatiert. Ohne eine vorherige Bearbeitung wären sie nur schwer oder gar nicht für aussagekräftige Analysen und Visualisierungen nutzbar. Der Power Query Editor ermöglicht es, diese Vorverarbeitungsschritte systematisch, transparent und nachvollziehbar umzusetzen. Dadurch steigt nicht nur die Qualität der Analysen, sondern auch deren Effizienz und Reproduzierbarkeit.\n",
    "\n",
    "Zusammenfassend stellt der Power Query Editor ein unverzichtbares Werkzeug in Power BI dar, da er dafür sorgt, dass die Daten sauber, gut strukturiert und optimal für die anschließende Modellierung und Visualisierung vorbereitet sind.\n",
    "\n",
    "<img src=\"../bilder\\prepare-data\\lecture_2-query_editor_img_1.png\" />\n",
    "\n",
    "\n",
    "\n"
   ]
  }
 ],
 "metadata": {
  "language_info": {
   "name": "python"
  }
 },
 "nbformat": 4,
 "nbformat_minor": 2
}
