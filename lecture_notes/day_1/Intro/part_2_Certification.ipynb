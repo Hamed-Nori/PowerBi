{
 "cells": [
  {
   "cell_type": "markdown",
   "metadata": {},
   "source": [
    "# Power BI PL-300 Zertifizierung \n",
    "\n",
    "Unsere Ziel in dieses Kurs ist euch, Teilnhemern, einen umfangreiches Wissen über das microsoft Tool Power BI zu geben damit ihr die Zertifizierung PL-300 erreichen könnt\n",
    "\n",
    "# Was ist PL-300\n",
    "# Wie ist PL-300 Aufgebaut \n",
    "# Welche Mehrwert liefert PL-300 im karrierelaufbahn für euch\n",
    "# Wie ist die Prüfung aufgebaut?\n",
    "Multiple Choice Fragen\n",
    "Daeuert 120 Minuten \n",
    "7000/ 1000 Punkte müssen erreicht werden\n",
    "# Wie kann ich die Prüfungen ablege?\n",
    "# Wie lange ist meine Zertifikat gültig? \n",
    "# Was passiert nach Ablauf meines Zertifikates? \n",
    "# Warum muss ich den Zertifikat immer wieder aktualsieren? \n",
    "# was passiert wenn ich es nicht bestehe? \n",
    "- nach einmal durchfalle Sperre von 24 Stunden\n",
    "- nach zweimal durc#hfallen Sperre von 14 Tagen\n",
    "- nach dreimal durchfallen  14 Tage warten für wiederholen 5 und 6 versuch\n",
    "- innerhalb eines Jahre maximal 5 Versuche erlaubt \n",
    "\n",
    "## Prüfungsanforderungen\n",
    "\n",
    "- Datenaufbereitung (prepare the Data) 15 - 20% \n",
    "- Datenmodellierung (30-35%)\n",
    "- Visualisierung und Analysierung von Daten (25 -30 %)\n",
    "- deploy und Maintain Assets (10-15%)\n",
    "\n",
    "# Mehr Informationen \n",
    "\n"
   ]
  },
  {
   "cell_type": "markdown",
   "metadata": {},
   "source": []
  }
 ],
 "metadata": {
  "language_info": {
   "name": "python"
  }
 },
 "nbformat": 4,
 "nbformat_minor": 2
}
