{
 "cells": [
  {
   "cell_type": "markdown",
   "metadata": {},
   "source": [
    "# Transfromirung von Datentypen in Query Editor\n",
    "\n",
    "## Flat Files\n",
    "\n",
    "Flat Files (auch als flache Dateien oder Flat-File-Datenbanken bekannt) sind einfache, textbasierte Dateien zur Speicherung strukturierter Daten ohne komplexe hierarchische oder relationale Strukturen. Typischerweise werden Flat Files verwendet, um Daten in einer einfachen Form, meist zeilenweise, abzulegen. Dabei entspricht jede Zeile üblicherweise einem Datensatz, während jedes einzelne Datenfeld in diesem Datensatz oft durch bestimmte Trennzeichen voneinander abgegrenzt wird.\n",
    "\n",
    "Die gängigsten Formate von Flat Files sind CSV-Dateien (Comma-Separated Values) und TSV-Dateien (Tab-Separated Values). CSV-Dateien verwenden Kommas (,) oder Semikolons (;) als Trennzeichen zwischen den Datenfeldern, während TSV-Dateien einen Tabulator als Feldtrennzeichen nutzen. Andere, weniger verbreitete Trennzeichen wie Pipes (|) oder Leerzeichen können ebenfalls zum Einsatz kommen.\n",
    "\n",
    "Ein großer Vorteil von Flat Files liegt in ihrer Einfachheit: Sie sind leicht zu erstellen, zu lesen, zu bearbeiten und nahezu universell kompatibel. Flat Files ermöglichen somit eine unkomplizierte Datenübertragung zwischen unterschiedlichen Anwendungen und Systemen. Sie werden besonders häufig zum Exportieren und Importieren von Daten verwendet, etwa für die Verarbeitung in Tabellenkalkulationsprogrammen wie Microsoft Excel oder für die schnelle Datenanalyse mit Python- oder R-Skripten.\n",
    "\n",
    "Dennoch weisen Flat Files auch einige Nachteile auf: Sie eignen sich nicht optimal zur Speicherung großer Datenmengen mit komplexen Beziehungen, da keine explizite Unterstützung von Relationen oder Datenintegrität vorhanden ist. Komplexe Abfragen, effiziente Indizierung oder fortgeschrittene Operationen auf den Daten sind ebenfalls nicht oder nur eingeschränkt möglich. Sobald Daten stark relational strukturiert oder sehr umfangreich werden, sind relationale Datenbanken oder andere fortgeschrittene Speichersysteme die bessere Wahl.\n",
    "\n",
    "Zusammenfassend sind Flat Files eine praktische, unkomplizierte Lösung für die Speicherung und Übertragung einfacher, strukturierter Daten. Aufgrund ihrer Einfachheit und Flexibilität finden sie trotz ihrer Grenzen vielfältige Anwendungsmöglichkeiten in IT, Softwareentwicklung, Datenanalyse und Datenintegration.\n",
    "Ein Problem von Flat Dateien ist dass die daten nicht clean sind und manuell eingegeben wurden. Das kann zur Folgende Probleme führen\n",
    "\n",
    "- in einem Spalte sind verschidene Datentypen Zahlen Datum oder Texte\n",
    "- Power BI problem bei automatischen Datentyperkennung hat \n",
    "- Fehlerhaften Datenanalyse \n",
    "\n"
   ]
  }
 ],
 "metadata": {
  "language_info": {
   "name": "python"
  }
 },
 "nbformat": 4,
 "nbformat_minor": 2
}
